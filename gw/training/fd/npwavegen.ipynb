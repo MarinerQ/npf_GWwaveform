{
 "cells": [
  {
   "cell_type": "code",
   "execution_count": null,
   "metadata": {},
   "outputs": [],
   "source": [
    "import numpy as np\n",
    "import matplotlib.pyplot as plt\n",
    "\n",
    "import pycbc\n",
    "from pycbc.types import FrequencySeries\n",
    "from pycbc.waveform import get_td_waveform\n",
    "from pycbc.waveform import get_fd_waveform\n",
    "\n",
    "from gstlal import chirptime\n",
    "from functools import partial\n",
    "\n",
    "\n",
    "import h5py\n",
    "import scipy\n",
    "\n",
    "import bilby\n",
    "from bilby.gw import utils as gwutils\n",
    "from pesummary.gw.conversions import spins as pespin\n",
    "from multiprocessing import Pool\n",
    "import multiprocessing\n",
    "from functools import partial\n",
    "from bilby.gw import conversion\n",
    "\n",
    "import torch\n",
    "import os\n",
    "os.chdir('/Users/qianhu/Documents/Glasgow/research/np_waveform/npf_GWwaveform/')\n",
    "from gw.utils import gwutils as npgwutils"
   ]
  }
 ],
 "metadata": {
  "language_info": {
   "name": "python"
  },
  "orig_nbformat": 4
 },
 "nbformat": 4,
 "nbformat_minor": 2
}
